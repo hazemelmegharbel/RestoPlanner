{
 "cells": [
  {
   "cell_type": "code",
   "execution_count": 46,
   "metadata": {},
   "outputs": [],
   "source": [
    "import pandas as pd"
   ]
  },
  {
   "cell_type": "code",
   "execution_count": 47,
   "metadata": {},
   "outputs": [],
   "source": [
    "OSM_data = pd.read_json('amenities-vancouver.json', lines=True)"
   ]
  },
  {
   "cell_type": "code",
   "execution_count": 48,
   "metadata": {},
   "outputs": [],
   "source": [
    "chains = OSM_data[OSM_data['tags'].apply(lambda tags: 'brand:wikidata' in tags)]"
   ]
  },
  {
   "cell_type": "code",
   "execution_count": 53,
   "metadata": {},
   "outputs": [],
   "source": [
    "fast_food = chains[chains['amenity']=='fast_food']"
   ]
  },
  {
   "cell_type": "code",
   "execution_count": 54,
   "metadata": {},
   "outputs": [],
   "source": [
    "restaurants = chains[chains['amenity']=='restaurant']"
   ]
  },
  {
   "cell_type": "code",
   "execution_count": 43,
   "metadata": {},
   "outputs": [],
   "source": [
    "# https://ramiro.org/notebook/us-presidents-causes-of-death/\n",
    "import requests\n",
    "\n",
    "query = '''PREFIX wikibase: <http://wikiba.se/ontology#>\n",
    "PREFIX wd: <http://www.wikidata.org/entity/>\n",
    "PREFIX wdt: <http://www.wikidata.org/prop/direct/>\n",
    "PREFIX rdfs: <http://www.w3.org/2000/01/rdf-schema#>\n",
    "\n",
    "SELECT ?restaurant ?followers WHERE {\n",
    "    VALUES ?storetype {wd:Q18534542 wd:Q18509232}\n",
    "    ?pid wdt:P31 ?storetype .\n",
    "    ?pid wdt:P8687 ?followers .\n",
    "\n",
    "    OPTIONAL {\n",
    "        ?pid rdfs:label ?restaurant filter (lang(?restaurant) = \"en\") .\n",
    "    }\n",
    "    OPTIONAL {\n",
    "        ?cid rdfs:label ?followers filter (lang(?followers) = \"en\") .\n",
    "    }\n",
    "}'''\n",
    "\n",
    "url = 'https://query.wikidata.org/bigdata/namespace/wdq/sparql'\n",
    "data = requests.get(url, params={'query': query, 'format': 'json'}).json()"
   ]
  },
  {
   "cell_type": "code",
   "execution_count": 77,
   "metadata": {},
   "outputs": [
    {
     "data": {
      "text/html": [
       "<div>\n",
       "<style scoped>\n",
       "    .dataframe tbody tr th:only-of-type {\n",
       "        vertical-align: middle;\n",
       "    }\n",
       "\n",
       "    .dataframe tbody tr th {\n",
       "        vertical-align: top;\n",
       "    }\n",
       "\n",
       "    .dataframe thead th {\n",
       "        text-align: right;\n",
       "    }\n",
       "</style>\n",
       "<table border=\"1\" class=\"dataframe\">\n",
       "  <thead>\n",
       "    <tr style=\"text-align: right;\">\n",
       "      <th></th>\n",
       "      <th>name</th>\n",
       "      <th>followers</th>\n",
       "    </tr>\n",
       "  </thead>\n",
       "  <tbody>\n",
       "    <tr>\n",
       "      <th>0</th>\n",
       "      <td>Domino's Pizza</td>\n",
       "      <td>330000</td>\n",
       "    </tr>\n",
       "    <tr>\n",
       "      <th>1</th>\n",
       "      <td>Domino's Pizza</td>\n",
       "      <td>330000</td>\n",
       "    </tr>\n",
       "    <tr>\n",
       "      <th>2</th>\n",
       "      <td>Wasabi</td>\n",
       "      <td>4800</td>\n",
       "    </tr>\n",
       "    <tr>\n",
       "      <th>3</th>\n",
       "      <td>Eat'n Park</td>\n",
       "      <td>6700</td>\n",
       "    </tr>\n",
       "    <tr>\n",
       "      <th>4</th>\n",
       "      <td>MOS Burger</td>\n",
       "      <td>10500</td>\n",
       "    </tr>\n",
       "  </tbody>\n",
       "</table>\n",
       "</div>"
      ],
      "text/plain": [
       "             name  followers\n",
       "0  Domino's Pizza     330000\n",
       "1  Domino's Pizza     330000\n",
       "2          Wasabi       4800\n",
       "3      Eat'n Park       6700\n",
       "4      MOS Burger      10500"
      ]
     },
     "execution_count": 77,
     "metadata": {},
     "output_type": "execute_result"
    }
   ],
   "source": [
    "# it would be desirable to use 'from_dict' here, but dtype cannot be set to 'dict'\n",
    "chain_foods = []\n",
    "for item in data['results']['bindings']:\n",
    "    chain_foods.append({\n",
    "        'name': item['restaurant']['value'],\n",
    "        'followers': item['followers']['value']})\n",
    "\n",
    "wiki_df = pd.DataFrame(chain_foods)\n",
    "wiki_df['followers'] = (wiki_df['followers']).astype(int)\n",
    "wiki_df.head()"
   ]
  },
  {
   "cell_type": "code",
   "execution_count": 67,
   "metadata": {},
   "outputs": [],
   "source": [
    "wiki_fast_food = fast_food.merge(wiki_df, on='name')\n",
    "wiki_restaurants = restaurants.merge(wiki_df, on='name')"
   ]
  },
  {
   "cell_type": "code",
   "execution_count": 69,
   "metadata": {},
   "outputs": [],
   "source": [
    "# sample test for all Vancouver restaurants & fast food\n",
    "from scipy import stats\n",
    "xA = wiki_fast_food['followers']\n",
    "xB = wiki_restaurants['followers']"
   ]
  },
  {
   "cell_type": "code",
   "execution_count": 13,
   "metadata": {},
   "outputs": [
    {
     "name": "stdout",
     "output_type": "stream",
     "text": [
      "3.431272688793852e-23\n",
      "4.969296669914804e-56\n",
      "0.4047997244282754\n"
     ]
    }
   ],
   "source": [
    "print(stats.normaltest(xA).pvalue)\n",
    "print(stats.normaltest(xB).pvalue) #not normal, right-skewed\n",
    "print(stats.levene(xA, xB).pvalue) # somewhat equal variance"
   ]
  },
  {
   "cell_type": "code",
   "execution_count": 14,
   "metadata": {},
   "outputs": [
    {
     "name": "stdout",
     "output_type": "stream",
     "text": [
      "0.00026216547557884743\n",
      "0.0\n"
     ]
    }
   ],
   "source": [
    "import numpy as np\n",
    "ya_transf = np.log(xA)\n",
    "yb_transf = np.log(xB)\n",
    "print(stats.normaltest(ya_transf).pvalue)\n",
    "print(stats.normaltest(yb_transf).pvalue) #still not normal enough"
   ]
  },
  {
   "cell_type": "code",
   "execution_count": 20,
   "metadata": {},
   "outputs": [
    {
     "name": "stdout",
     "output_type": "stream",
     "text": [
      "0.016231785200568203\n"
     ]
    }
   ],
   "source": [
    "print(stats.mannwhitneyu(xA, xB, alternative='greater').pvalue) # p<0.05 = significant"
   ]
  },
  {
   "cell_type": "code",
   "execution_count": 27,
   "metadata": {},
   "outputs": [],
   "source": [
    "# sample input\n",
    "LAT = 49.26076\n",
    "LON = -123.1154\n",
    "radius = 0.05"
   ]
  },
  {
   "cell_type": "code",
   "execution_count": 28,
   "metadata": {},
   "outputs": [
    {
     "data": {
      "text/html": [
       "<div>\n",
       "<style scoped>\n",
       "    .dataframe tbody tr th:only-of-type {\n",
       "        vertical-align: middle;\n",
       "    }\n",
       "\n",
       "    .dataframe tbody tr th {\n",
       "        vertical-align: top;\n",
       "    }\n",
       "\n",
       "    .dataframe thead th {\n",
       "        text-align: right;\n",
       "    }\n",
       "</style>\n",
       "<table border=\"1\" class=\"dataframe\">\n",
       "  <thead>\n",
       "    <tr style=\"text-align: right;\">\n",
       "      <th></th>\n",
       "      <th>lat</th>\n",
       "      <th>lon</th>\n",
       "      <th>timestamp</th>\n",
       "      <th>amenity</th>\n",
       "      <th>name</th>\n",
       "      <th>tags</th>\n",
       "    </tr>\n",
       "  </thead>\n",
       "  <tbody>\n",
       "    <tr>\n",
       "      <th>0</th>\n",
       "      <td>49.260812</td>\n",
       "      <td>-123.125736</td>\n",
       "      <td>2020-03-20T18:22:12.000-07:00</td>\n",
       "      <td>cafe</td>\n",
       "      <td>Starbucks</td>\n",
       "      <td>{'brand:wikidata': 'Q37158', 'official_name': ...</td>\n",
       "    </tr>\n",
       "    <tr>\n",
       "      <th>1</th>\n",
       "      <td>49.260953</td>\n",
       "      <td>-123.125704</td>\n",
       "      <td>2019-08-02T18:11:20.000-07:00</td>\n",
       "      <td>fast_food</td>\n",
       "      <td>Salad Loop</td>\n",
       "      <td>{'opening_hours': 'Mo-Fr 07:00-17:00; Sa 10:00...</td>\n",
       "    </tr>\n",
       "    <tr>\n",
       "      <th>7</th>\n",
       "      <td>49.264041</td>\n",
       "      <td>-123.153407</td>\n",
       "      <td>2019-08-29T18:50:05.000-07:00</td>\n",
       "      <td>fuel</td>\n",
       "      <td>Shell</td>\n",
       "      <td>{'brand:wikidata': 'Q154950', 'addr:housenumbe...</td>\n",
       "    </tr>\n",
       "    <tr>\n",
       "      <th>14</th>\n",
       "      <td>49.276075</td>\n",
       "      <td>-123.127167</td>\n",
       "      <td>2015-10-26T07:17:38.000-07:00</td>\n",
       "      <td>parking_entrance</td>\n",
       "      <td>Hertz</td>\n",
       "      <td>{'parking': 'underground', 'access': 'customers'}</td>\n",
       "    </tr>\n",
       "    <tr>\n",
       "      <th>16</th>\n",
       "      <td>49.283192</td>\n",
       "      <td>-123.109050</td>\n",
       "      <td>2015-12-18T21:41:07.000-08:00</td>\n",
       "      <td>pub</td>\n",
       "      <td>The Cambie</td>\n",
       "      <td>{'toilets:wheelchair': 'no', 'wheelchair': 'li...</td>\n",
       "    </tr>\n",
       "    <tr>\n",
       "      <th>20</th>\n",
       "      <td>49.274536</td>\n",
       "      <td>-123.153621</td>\n",
       "      <td>2019-06-11T21:09:49.000-07:00</td>\n",
       "      <td>toilets</td>\n",
       "      <td>NaN</td>\n",
       "      <td>{'opening_hours': 'dawn-dusk'}</td>\n",
       "    </tr>\n",
       "  </tbody>\n",
       "</table>\n",
       "</div>"
      ],
      "text/plain": [
       "          lat         lon                      timestamp           amenity  \\\n",
       "0   49.260812 -123.125736  2020-03-20T18:22:12.000-07:00              cafe   \n",
       "1   49.260953 -123.125704  2019-08-02T18:11:20.000-07:00         fast_food   \n",
       "7   49.264041 -123.153407  2019-08-29T18:50:05.000-07:00              fuel   \n",
       "14  49.276075 -123.127167  2015-10-26T07:17:38.000-07:00  parking_entrance   \n",
       "16  49.283192 -123.109050  2015-12-18T21:41:07.000-08:00               pub   \n",
       "20  49.274536 -123.153621  2019-06-11T21:09:49.000-07:00           toilets   \n",
       "\n",
       "          name                                               tags  \n",
       "0    Starbucks  {'brand:wikidata': 'Q37158', 'official_name': ...  \n",
       "1   Salad Loop  {'opening_hours': 'Mo-Fr 07:00-17:00; Sa 10:00...  \n",
       "7        Shell  {'brand:wikidata': 'Q154950', 'addr:housenumbe...  \n",
       "14       Hertz  {'parking': 'underground', 'access': 'customers'}  \n",
       "16  The Cambie  {'toilets:wheelchair': 'no', 'wheelchair': 'li...  \n",
       "20         NaN                     {'opening_hours': 'dawn-dusk'}  "
      ]
     },
     "execution_count": 28,
     "metadata": {},
     "output_type": "execute_result"
    }
   ],
   "source": [
    "in_radius_amenities = OSM_data[\n",
    "    (OSM_data['lat'] > LAT-radius) & (OSM_data['lat'] < LAT+radius) &\n",
    "    (OSM_data['lon'] > LON-radius) & (OSM_data['lon'] < LON+radius)\n",
    "]\n",
    "in_radius_amenities.head(6)"
   ]
  }
 ],
 "metadata": {
  "interpreter": {
   "hash": "916dbcbb3f70747c44a77c7bcd40155683ae19c65e1c03b4aa3499c5328201f1"
  },
  "kernelspec": {
   "display_name": "Python 3.8.10 64-bit",
   "language": "python",
   "name": "python3"
  },
  "language_info": {
   "codemirror_mode": {
    "name": "ipython",
    "version": 3
   },
   "file_extension": ".py",
   "mimetype": "text/x-python",
   "name": "python",
   "nbconvert_exporter": "python",
   "pygments_lexer": "ipython3",
   "version": "3.8.10"
  },
  "orig_nbformat": 4
 },
 "nbformat": 4,
 "nbformat_minor": 2
}
