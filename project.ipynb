{
 "cells": [
  {
   "cell_type": "code",
   "execution_count": 46,
   "metadata": {},
   "outputs": [],
   "source": [
    "import pandas as pd"
   ]
  },
  {
   "cell_type": "code",
   "execution_count": 47,
   "metadata": {},
   "outputs": [],
   "source": [
    "OSM_data = pd.read_json('amenities-vancouver.json', lines=True)"
   ]
  },
  {
   "cell_type": "code",
   "execution_count": 48,
   "metadata": {},
   "outputs": [],
   "source": [
    "chains = OSM_data[OSM_data['tags'].apply(lambda tags: 'brand:wikidata' in tags)]"
   ]
  },
  {
   "cell_type": "code",
   "execution_count": 53,
   "metadata": {},
   "outputs": [],
   "source": [
    "fast_food = chains[chains['amenity']=='fast_food']"
   ]
  },
  {
   "cell_type": "code",
   "execution_count": 54,
   "metadata": {},
   "outputs": [],
   "source": [
    "restaurants = chains[chains['amenity']=='restaurant']"
   ]
  },
  {
   "cell_type": "code",
   "execution_count": 43,
   "metadata": {},
   "outputs": [],
   "source": [
    "# https://ramiro.org/notebook/us-presidents-causes-of-death/\n",
    "import requests\n",
    "\n",
    "query = '''PREFIX wikibase: <http://wikiba.se/ontology#>\n",
    "PREFIX wd: <http://www.wikidata.org/entity/>\n",
    "PREFIX wdt: <http://www.wikidata.org/prop/direct/>\n",
    "PREFIX rdfs: <http://www.w3.org/2000/01/rdf-schema#>\n",
    "\n",
    "SELECT ?restaurant ?followers WHERE {\n",
    "    VALUES ?storetype {wd:Q18534542 wd:Q18509232}\n",
    "    ?pid wdt:P31 ?storetype .\n",
    "    ?pid wdt:P8687 ?followers .\n",
    "\n",
    "    OPTIONAL {\n",
    "        ?pid rdfs:label ?restaurant filter (lang(?restaurant) = \"en\") .\n",
    "    }\n",
    "    OPTIONAL {\n",
    "        ?cid rdfs:label ?followers filter (lang(?followers) = \"en\") .\n",
    "    }\n",
    "}'''\n",
    "\n",
    "url = 'https://query.wikidata.org/bigdata/namespace/wdq/sparql'\n",
    "data = requests.get(url, params={'query': query, 'format': 'json'}).json()"
   ]
  },
  {
   "cell_type": "code",
   "execution_count": 77,
   "metadata": {},
   "outputs": [
    {
     "data": {
      "text/html": [
       "<div>\n",
       "<style scoped>\n",
       "    .dataframe tbody tr th:only-of-type {\n",
       "        vertical-align: middle;\n",
       "    }\n",
       "\n",
       "    .dataframe tbody tr th {\n",
       "        vertical-align: top;\n",
       "    }\n",
       "\n",
       "    .dataframe thead th {\n",
       "        text-align: right;\n",
       "    }\n",
       "</style>\n",
       "<table border=\"1\" class=\"dataframe\">\n",
       "  <thead>\n",
       "    <tr style=\"text-align: right;\">\n",
       "      <th></th>\n",
       "      <th>name</th>\n",
       "      <th>followers</th>\n",
       "    </tr>\n",
       "  </thead>\n",
       "  <tbody>\n",
       "    <tr>\n",
       "      <th>0</th>\n",
       "      <td>Domino's Pizza</td>\n",
       "      <td>330000</td>\n",
       "    </tr>\n",
       "    <tr>\n",
       "      <th>1</th>\n",
       "      <td>Domino's Pizza</td>\n",
       "      <td>330000</td>\n",
       "    </tr>\n",
       "    <tr>\n",
       "      <th>2</th>\n",
       "      <td>Wasabi</td>\n",
       "      <td>4800</td>\n",
       "    </tr>\n",
       "    <tr>\n",
       "      <th>3</th>\n",
       "      <td>Eat'n Park</td>\n",
       "      <td>6700</td>\n",
       "    </tr>\n",
       "    <tr>\n",
       "      <th>4</th>\n",
       "      <td>MOS Burger</td>\n",
       "      <td>10500</td>\n",
       "    </tr>\n",
       "  </tbody>\n",
       "</table>\n",
       "</div>"
      ],
      "text/plain": [
       "             name  followers\n",
       "0  Domino's Pizza     330000\n",
       "1  Domino's Pizza     330000\n",
       "2          Wasabi       4800\n",
       "3      Eat'n Park       6700\n",
       "4      MOS Burger      10500"
      ]
     },
     "execution_count": 77,
     "metadata": {},
     "output_type": "execute_result"
    }
   ],
   "source": [
    "# it would be desirable to use 'from_dict' here, but dtype cannot be set to 'dict'\n",
    "chain_foods = []\n",
    "for item in data['results']['bindings']:\n",
    "    chain_foods.append({\n",
    "        'name': item['restaurant']['value'],\n",
    "        'followers': item['followers']['value']})\n",
    "\n",
    "wiki_df = pd.DataFrame(chain_foods)\n",
    "wiki_df['followers'] = (wiki_df['followers']).astype(int)\n",
    "wiki_df.head()"
   ]
  },
  {
   "cell_type": "code",
   "execution_count": 67,
   "metadata": {},
   "outputs": [],
   "source": [
    "wiki_fast_food = fast_food.merge(wiki_df, on='name')\n",
    "wiki_restaurants = restaurants.merge(wiki_df, on='name')"
   ]
  },
  {
   "cell_type": "code",
   "execution_count": 69,
   "metadata": {},
   "outputs": [],
   "source": [
    "# sample test for all Vancouver restaurants & fast food\n",
    "from scipy import stats\n",
    "xA = wiki_fast_food['followers']\n",
    "xB = wiki_restaurants['followers']"
   ]
  },
  {
   "cell_type": "code",
   "execution_count": 70,
   "metadata": {},
   "outputs": [
    {
     "name": "stdout",
     "output_type": "stream",
     "text": [
      "3.431272688793852e-23\n",
      "4.969296669914804e-56\n",
      "0.4047997244282754\n"
     ]
    }
   ],
   "source": [
    "print(stats.normaltest(xA).pvalue)\n",
    "print(stats.normaltest(xB).pvalue)\n",
    "print(stats.levene(xA, xB).pvalue)"
   ]
  },
  {
   "cell_type": "code",
   "execution_count": 73,
   "metadata": {},
   "outputs": [
    {
     "name": "stdout",
     "output_type": "stream",
     "text": [
      "0.00026216547557884743\n",
      "0.0\n"
     ]
    }
   ],
   "source": [
    "import numpy as np\n",
    "ya_transf = np.log(xA)\n",
    "yb_transf = np.log(xB)\n",
    "print(stats.normaltest(ya_transf).pvalue)\n",
    "print(stats.normaltest(yb_transf).pvalue)"
   ]
  },
  {
   "cell_type": "code",
   "execution_count": 76,
   "metadata": {},
   "outputs": [
    {
     "name": "stdout",
     "output_type": "stream",
     "text": [
      "0.032463570401136406\n"
     ]
    }
   ],
   "source": [
    "print(stats.mannwhitneyu(xA, xB).pvalue)"
   ]
  }
 ],
 "metadata": {
  "interpreter": {
   "hash": "916dbcbb3f70747c44a77c7bcd40155683ae19c65e1c03b4aa3499c5328201f1"
  },
  "kernelspec": {
   "display_name": "Python 3.8.10 64-bit",
   "language": "python",
   "name": "python3"
  },
  "language_info": {
   "codemirror_mode": {
    "name": "ipython",
    "version": 3
   },
   "file_extension": ".py",
   "mimetype": "text/x-python",
   "name": "python",
   "nbconvert_exporter": "python",
   "pygments_lexer": "ipython3",
   "version": "3.8.10"
  },
  "orig_nbformat": 4
 },
 "nbformat": 4,
 "nbformat_minor": 2
}
